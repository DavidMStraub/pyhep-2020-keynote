{
 "cells": [
  {
   "cell_type": "code",
   "execution_count": null,
   "metadata": {
    "slideshow": {
     "slide_type": "skip"
    }
   },
   "outputs": [],
   "source": [
    "%matplotlib inline\n",
    "%config InlineBackend.figure_format = \"svg\"\n",
    "%load_ext snakeviz"
   ]
  },
  {
   "cell_type": "markdown",
   "metadata": {
    "slideshow": {
     "slide_type": "slide"
    }
   },
   "source": [
    "\n",
    "\n",
    "# Python & HEP &ndash; a perfect match, in theory\n",
    "\n",
    "PyHEP 2020 Keynote\n",
    "\n",
    "David Straub, Lilium GmbH"
   ]
  },
  {
   "cell_type": "markdown",
   "metadata": {
    "slideshow": {
     "slide_type": "slide"
    }
   },
   "source": [
    "## About me\n",
    "\n",
    "![](jobs.png)"
   ]
  },
  {
   "cell_type": "markdown",
   "metadata": {
    "slideshow": {
     "slide_type": "slide"
    }
   },
   "source": [
    "## Language use in Astrophysics\n",
    "\n",
    "![](Lang_Astrophysics.svg)\n",
    "\n",
    "According to Inspire paper count per search term, [source](https://github.com/DavidMStraub/pyhep-2020-keynote/Languages.ipynb)"
   ]
  },
  {
   "cell_type": "markdown",
   "metadata": {
    "slideshow": {
     "slide_type": "slide"
    }
   },
   "source": [
    "## Language use in HEP-Ph\n",
    "\n",
    "![](Lang_Phenomenology-HEP.svg)\n",
    "\n",
    "According to Inspire paper count per search term, [source](https://github.com/DavidMStraub/pyhep-2020-keynote/Languages.ipynb)"
   ]
  },
  {
   "cell_type": "markdown",
   "metadata": {
    "slideshow": {
     "slide_type": "slide"
    }
   },
   "source": [
    "## Why Mathematica?\n",
    "\n",
    "- Simple: `Plot[Sin[x]^2, {x, 0, 4*Pi}]`\n",
    "- Interactive (notebook!)\n",
    "- Symbolical & numerical"
   ]
  },
  {
   "cell_type": "markdown",
   "metadata": {
    "slideshow": {
     "slide_type": "slide"
    }
   },
   "source": [
    "## Why not Mathematica?\n",
    "\n",
    "- No object-orientated programming\n",
    "- Licensing (running on a cluster, server, ...: complicated)\n",
    "- No continuous integration, containers, ...\n",
    "- No package manager or even package installation/sharing infrastructure (do I need to mention dependency resolution?)"
   ]
  },
  {
   "cell_type": "markdown",
   "metadata": {
    "slideshow": {
     "slide_type": "slide"
    }
   },
   "source": [
    "Typical HEP Mathematica package installation instructions:\n",
    "\n",
    "![](smeftfr.png)<!-- .element height=\"50%\" width=\"50%\" -->\n",
    "\n",
    "([More sophisticated examples exist](https://feyncalc.github.io/) but are still hacks.)"
   ]
  },
  {
   "cell_type": "markdown",
   "metadata": {
    "slideshow": {
     "slide_type": "slide"
    }
   },
   "source": [
    "## Me, 2007\n",
    "\n",
    "![](math1.png)"
   ]
  },
  {
   "cell_type": "markdown",
   "metadata": {
    "slideshow": {
     "slide_type": "subslide"
    }
   },
   "source": [
    "![](cpsuperh.png)"
   ]
  },
  {
   "cell_type": "markdown",
   "metadata": {
    "slideshow": {
     "slide_type": "slide"
    }
   },
   "source": [
    "![](root.png)"
   ]
  },
  {
   "cell_type": "markdown",
   "metadata": {
    "slideshow": {
     "slide_type": "slide"
    }
   },
   "source": [
    "\n",
    "## Why Python?\n",
    "\n",
    "- Simple ✔\n",
    "- Interactive ✔ (Jupyter!)\n",
    "- Open: run everywhere\n",
    "- Tons of community libraries\n",
    "- Use state-of-the-art software development practices\n",
    "- Easy to modify\n",
    "- Easy to share, collaborate, modularize\n",
    "- **Easy to install**"
   ]
  },
  {
   "cell_type": "markdown",
   "metadata": {
    "slideshow": {
     "slide_type": "fragment"
    }
   },
   "source": [
    "- Plots with proper $\\LaTeX$ labels 😉"
   ]
  },
  {
   "cell_type": "markdown",
   "metadata": {
    "slideshow": {
     "slide_type": "slide"
    }
   },
   "source": [
    "## Python is fast"
   ]
  },
  {
   "cell_type": "code",
   "execution_count": null,
   "metadata": {
    "slideshow": {
     "slide_type": "-"
    }
   },
   "outputs": [],
   "source": [
    "import flavio\n",
    "%snakeviz flavio.sm_prediction(\"BR(Bs->mumu)\")"
   ]
  },
  {
   "cell_type": "markdown",
   "metadata": {
    "slideshow": {
     "slide_type": "slide"
    }
   },
   "source": [
    "## First Pheno steps with Python\n",
    "\n",
    "2014-2016 project on composite Higgs with Christoph Niehoff and Peter Stangl\n",
    "\n",
    "![](all_Ztt.svg)"
   ]
  },
  {
   "cell_type": "markdown",
   "metadata": {
    "slideshow": {
     "slide_type": "slide"
    }
   },
   "source": [
    "## Moving open source\n",
    "\n",
    "Major controversy around deviations from Standard Model expectations in $B\\to K^*\\mu^+\\mu^-$\n",
    "\n",
    "![](hype.jpg)\n",
    "\n",
    "Idea: comparing different approaches **transparently** in an **open source** Python package that is **easy** to use and easy to extend"
   ]
  },
  {
   "cell_type": "markdown",
   "metadata": {
    "slideshow": {
     "slide_type": "slide"
    }
   },
   "source": [
    "## The flavio ecosystem\n",
    "\n",
    "- 2016: [`flavio`](https://flav-io.github.io/) - A Python package for flavour physics phenomenology in the Standard model and beyond \n",
    "- 2017: [`wcxf`](https://wcxf.github.io/) - The Wilson coefficient exchange format\n",
    "- 2018: [`wilson`](https://wilson-eft.github.io/) - A Python package for the running and matching of Wilson coefficients above and below the electroweak scale \n",
    "- 2019: [`smelli`](https://smelli.github.io/) -  A global likelihood for the Standard Model Effective Field Theory "
   ]
  },
  {
   "cell_type": "markdown",
   "metadata": {
    "slideshow": {
     "slide_type": "slide"
    }
   },
   "source": [
    "## flavio: the observable calculator"
   ]
  },
  {
   "cell_type": "code",
   "execution_count": null,
   "metadata": {},
   "outputs": [],
   "source": [
    "import flavio\n",
    "\n",
    "flavio.Observable['BR(Bs->mumu)']"
   ]
  },
  {
   "cell_type": "code",
   "execution_count": null,
   "metadata": {},
   "outputs": [],
   "source": [
    "flavio.sm_prediction('BR(Bs->mumu)')"
   ]
  },
  {
   "cell_type": "code",
   "execution_count": null,
   "metadata": {},
   "outputs": [],
   "source": [
    "flavio.sm_uncertainty('BR(Bs->mumu)')"
   ]
  },
  {
   "cell_type": "code",
   "execution_count": null,
   "metadata": {
    "slideshow": {
     "slide_type": "slide"
    }
   },
   "outputs": [],
   "source": [
    "import flavio.plots as fpl\n",
    "\n",
    "err = flavio.sm_error_budget('BR(Bs->mumu)')\n",
    "fpl.error_budget_pie(err);"
   ]
  },
  {
   "cell_type": "code",
   "execution_count": null,
   "metadata": {
    "slideshow": {
     "slide_type": "slide"
    }
   },
   "outputs": [],
   "source": [
    "fpl.diff_plot_th_err('dBR/dq2(B0->pilnu)', 0.1, 26)\n",
    "fpl.bin_plot_exp('<BR>(B0->pilnu)', divide_binwidth=True);\n",
    "fpl.plt.legend();"
   ]
  },
  {
   "cell_type": "markdown",
   "metadata": {
    "slideshow": {
     "slide_type": "slide"
    }
   },
   "source": [
    "## Wilson: Swiss army knife for EFTs beyond the SM"
   ]
  },
  {
   "cell_type": "code",
   "execution_count": null,
   "metadata": {},
   "outputs": [],
   "source": [
    "from wilson import Wilson\n",
    "\n",
    "w = Wilson({'C10_bsmumu': 0.5}, scale=4.8, eft='WET', basis='flavio')\n",
    "w"
   ]
  },
  {
   "cell_type": "code",
   "execution_count": null,
   "metadata": {},
   "outputs": [],
   "source": [
    "flavio.np_prediction('BR(Bs->mumu)', w) / flavio.sm_prediction('BR(Bs->mumu)')"
   ]
  },
  {
   "cell_type": "markdown",
   "metadata": {},
   "source": [
    "See (https://wcxf.github.io/) for details on bases & conventions."
   ]
  },
  {
   "cell_type": "markdown",
   "metadata": {
    "slideshow": {
     "slide_type": "slide"
    }
   },
   "source": [
    "## flavio: likelihoods & fits"
   ]
  },
  {
   "cell_type": "code",
   "execution_count": null,
   "metadata": {
    "slideshow": {
     "slide_type": "-"
    }
   },
   "outputs": [],
   "source": [
    "from flavio.statistics.likelihood import Likelihood\n",
    "\n",
    "L = Likelihood(observables=['BR(B->Xsgamma)'])\n",
    "\n",
    "def LL(C7):\n",
    "    par = flavio.default_parameters.get_central_all()\n",
    "    wc = Wilson(\n",
    "        {'C7_bs': C7},\n",
    "        scale=4.8,\n",
    "        eft='WET',\n",
    "        basis='flavio'\n",
    "    )\n",
    "    return -L.log_likelihood(par, wc)"
   ]
  },
  {
   "cell_type": "code",
   "execution_count": null,
   "metadata": {
    "slideshow": {
     "slide_type": "slide"
    }
   },
   "outputs": [],
   "source": [
    "from iminuit import Minuit\n",
    "\n",
    "m = Minuit(LL, C7=0, error_C7=0.1, errordef=Minuit.LIKELIHOOD)\n",
    "\n",
    "m.migrad()"
   ]
  },
  {
   "cell_type": "markdown",
   "metadata": {
    "slideshow": {
     "slide_type": "slide"
    }
   },
   "source": [
    "![](lhcb_flavio.svg)"
   ]
  },
  {
   "cell_type": "markdown",
   "metadata": {
    "slideshow": {
     "slide_type": "slide"
    }
   },
   "source": [
    "$\\Rightarrow$ Python & HEP: a perfect match, also in theory!"
   ]
  },
  {
   "cell_type": "markdown",
   "metadata": {
    "slideshow": {
     "slide_type": "fragment"
    }
   },
   "source": [
    "... and in practice?"
   ]
  },
  {
   "cell_type": "markdown",
   "metadata": {
    "slideshow": {
     "slide_type": "slide"
    }
   },
   "source": [
    "## Challenges for Python in HEP-Ph\n",
    "\n",
    "Python's full potential is harnessed when embracing the **open source paradigm**:\n",
    "\n",
    "- Open source code\n",
    "- Transparency (development, decision making, bugs!)\n",
    "- Release early and often (software is **not** a paper!)\n",
    "- Community"
   ]
  },
  {
   "cell_type": "markdown",
   "metadata": {},
   "source": [
    "In HEP-Ph, there are very few open source projects in this sense, only \"public codes\"."
   ]
  },
  {
   "cell_type": "markdown",
   "metadata": {
    "slideshow": {
     "slide_type": "slide"
    }
   },
   "source": [
    "## Example: downloading a \"public code\"\n",
    "\n",
    "![](superiso1.png)\n",
    "![](superiso2.png)"
   ]
  },
  {
   "cell_type": "markdown",
   "metadata": {
    "slideshow": {
     "slide_type": "slide"
    }
   },
   "source": [
    "## Decision making\n",
    "\n",
    "> On 14 Jul 2016, at 13:10, David Straub wrote:\n",
    ">\n",
    "> Dear FeynRules developers,\n",
    "> [...] I realized that the UFO implementation in FeynRules is not Python 3\n",
    "compatible. [...] So I simply grabbed your\n",
    "Interfaces/UFO directory and made it compatible with *both* Python 2\n",
    " and 3. [...] I put everything in a\n",
    "public Github repo [...] It would be cool if you could include this improvement in a future\n",
    "release of FeynRules."
   ]
  },
  {
   "cell_type": "markdown",
   "metadata": {
    "slideshow": {
     "slide_type": "slide"
    }
   },
   "source": [
    "> On 30 May 2017, at 11:18, David Straub wrote:\n",
    ">\n",
    "> just to follow up on this old e-mail exchange, are these changes (Python 3 \n",
    "> support) planned to be included in a future version of FeynRules?\n",
    "\n",
    "\n",
    "> On 11 Jun 2017, at 20:28, xxxxx wrote:\n",
    ">\n",
    "> No, the official UFO format is currently still based on python 2.x, and there is no official support of python3.\n",
    "> You can just take any model and issue the following commands:\n",
    "> ```\n",
    "cd MODEL\n",
    "2to3 *.py -w\n",
    "```"
   ]
  },
  {
   "cell_type": "markdown",
   "metadata": {
    "slideshow": {
     "slide_type": "slide"
    }
   },
   "source": [
    "## The issue with citing code: lessons learned\n",
    "\n",
    "- Considered publishing code \"as a paper\" as obstructive to the open source paradigm\n",
    "- flavio has a [Zenodo DOI](https://doi.org/10.5281/zenodo.3548243)\n",
    "- Attempted to make this citable in Inspire - but does not count in the contributors' citation summary\n",
    "- After numerous requests \"how to cite the code\", paper submitted to a journal in late 2018\n"
   ]
  },
  {
   "cell_type": "markdown",
   "metadata": {
    "slideshow": {
     "slide_type": "slide"
    }
   },
   "source": [
    "## Referee report\n",
    "\n",
    "\n",
    "> As it is explicitly said in the abstract, \"This document gives an overview of the features as of version 1.0 but does not represent a manual\" and as such, it does not provide a proper description of the code, but is rather a sort of announcing document. [...] The current document lacks a full description of the functionalities of the code and its routines, a sort of tutorial section explaining the inputs and outputs, examples of its usage and a few physical applications. [...] Thus, I cannot recommend the manuscript for publication in {JOURNAL}."
   ]
  },
  {
   "cell_type": "markdown",
   "metadata": {
    "slideshow": {
     "slide_type": "slide"
    }
   },
   "source": [
    "## Some ideas how to improve the system\n",
    "\n",
    "- Journals (and referees) should force transparency on numerical analyses. Science should be open and **reproducible**!\n",
    "    - Python perfectly suited for this. `pipenv`, `jupyter`, ...\n",
    "- Software contributions should be citable (and citations should be counted)\n",
    "- Software as a collaborative community service should be appreciated by hiring committees\n",
    "- Advisors and mentors should consider the professional future of their young collaborators"
   ]
  },
  {
   "cell_type": "markdown",
   "metadata": {
    "slideshow": {
     "slide_type": "slide"
    }
   },
   "source": [
    "I am sure a collaborative, transparent & open Python software ecosystem would thrive in such a system. 🚀"
   ]
  },
  {
   "cell_type": "markdown",
   "metadata": {
    "slideshow": {
     "slide_type": "slide"
    }
   },
   "source": [
    "## Homework problem 😉\n",
    "\n",
    "If you are looking for an easy first contribution to a HEP-related open-source Python project, please consider fixing this issue:\n",
    "\n",
    "https://github.com/DavidMStraub/inspiretools/issues/7\n",
    "\n",
    "\n",
    "Thanks! 👍\n"
   ]
  },
  {
   "cell_type": "markdown",
   "metadata": {
    "slideshow": {
     "slide_type": "slide"
    }
   },
   "source": [
    "## Thanks\n",
    "\n",
    "Thanks to my 🐍-ic collaborators and to colleagues who taught me about Python:\n",
    "\n",
    "Christoph Niehoff, Peter Stangl, Jason Aebischer, Jacky Kumar, Rob Knegjens, Stephan Jahn, Frederik Beaujean, Danny van Dyk\n",
    "\n",
    "as well as to all contributors to our projects!"
   ]
  }
 ],
 "metadata": {
  "celltoolbar": "Slideshow",
  "kernelspec": {
   "display_name": "Python 3",
   "language": "python",
   "name": "python3"
  },
  "language_info": {
   "codemirror_mode": {
    "name": "ipython",
    "version": 3
   },
   "file_extension": ".py",
   "mimetype": "text/x-python",
   "name": "python",
   "nbconvert_exporter": "python",
   "pygments_lexer": "ipython3",
   "version": "3.8.2"
  }
 },
 "nbformat": 4,
 "nbformat_minor": 4
}
